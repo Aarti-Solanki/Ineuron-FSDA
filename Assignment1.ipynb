{
 "cells": [
  {
   "cell_type": "code",
   "execution_count": null,
   "id": "e175bd8d-82e2-44b7-a35e-eb81d0ad7728",
   "metadata": {},
   "outputs": [],
   "source": [
    "1. Write a Python program to print \"Hello Python\"?"
   ]
  },
  {
   "cell_type": "code",
   "execution_count": 2,
   "id": "7529e903-223c-4b1b-b4d8-b42c847c527a",
   "metadata": {},
   "outputs": [
    {
     "name": "stdout",
     "output_type": "stream",
     "text": [
      "\"Hello Python\"\n"
     ]
    }
   ],
   "source": [
    "print('\"Hello Python\"')"
   ]
  },
  {
   "cell_type": "code",
   "execution_count": null,
   "id": "3f8c3fb1-1b12-437d-853d-127a2962208e",
   "metadata": {},
   "outputs": [],
   "source": [
    "2. Write a Python program to do arithmetical operations addition and division."
   ]
  },
  {
   "cell_type": "code",
   "execution_count": 4,
   "id": "5be23b22-88ce-4ed2-81d0-b4fa12e37267",
   "metadata": {},
   "outputs": [
    {
     "name": "stdout",
     "output_type": "stream",
     "text": [
      "Sum is:  15\n",
      "Division is:  2.0\n"
     ]
    }
   ],
   "source": [
    "a = 10\n",
    "b = 5\n",
    "addition = a+b\n",
    "print('Sum is: ', addition)\n",
    "\n",
    "division = a/b\n",
    "\n",
    "print('Division is: ', division)"
   ]
  },
  {
   "cell_type": "code",
   "execution_count": null,
   "id": "bdc49ed7-e704-4e6f-a3fe-4a433706ca15",
   "metadata": {},
   "outputs": [],
   "source": [
    "Write a Python program to find the area of a triangle?"
   ]
  },
  {
   "cell_type": "code",
   "execution_count": 5,
   "id": "ce60e3e4-eaad-4749-a6db-b863fec91f17",
   "metadata": {},
   "outputs": [
    {
     "name": "stdin",
     "output_type": "stream",
     "text": [
      "Enter the height of a traingle:  10\n",
      "Input the base :  10\n"
     ]
    },
    {
     "name": "stdout",
     "output_type": "stream",
     "text": [
      "Area is:  50.0\n"
     ]
    }
   ],
   "source": [
    "h = int(input('Enter the height of a traingle: '))\n",
    "b = int(input(\"Input the base : \"))\n",
    "\n",
    "area = (h*b)/2\n",
    "\n",
    "print('Area is: ', area)"
   ]
  },
  {
   "cell_type": "code",
   "execution_count": null,
   "id": "27c862aa-196b-4722-b0a6-f00bf9f640c3",
   "metadata": {},
   "outputs": [],
   "source": [
    "4. Write a Python program to swap two variables?"
   ]
  },
  {
   "cell_type": "code",
   "execution_count": 8,
   "id": "57a98134-30e3-4671-9e7e-e1cb552e6f38",
   "metadata": {},
   "outputs": [
    {
     "name": "stdin",
     "output_type": "stream",
     "text": [
      "Enter first number:  10\n",
      "Enter second number:  20\n"
     ]
    },
    {
     "name": "stdout",
     "output_type": "stream",
     "text": [
      "First Number is:  10 Second number is:  20\n",
      "After Swapping:  \n",
      " First Number is:  20 Second number is:  10\n"
     ]
    }
   ],
   "source": [
    "a = int(input('Enter first number: '))\n",
    "b = int(input('Enter second number: '))\n",
    "\n",
    "print('First Number is: ', a, 'Second number is: ', b)\n",
    "\n",
    "temp =a \n",
    "a=b\n",
    "b=temp\n",
    "\n",
    "\n",
    "print('After Swapping: ', '\\n', 'First Number is: ', a, 'Second number is: ', b)\n"
   ]
  },
  {
   "cell_type": "code",
   "execution_count": null,
   "id": "28017e42-5092-4e08-a31a-eb8fdc34965a",
   "metadata": {},
   "outputs": [],
   "source": [
    "5. Write a Python program to generate a random number?"
   ]
  },
  {
   "cell_type": "code",
   "execution_count": 12,
   "id": "cb5470cc-f46a-4484-80aa-d3342b250164",
   "metadata": {},
   "outputs": [
    {
     "name": "stdout",
     "output_type": "stream",
     "text": [
      "[0, 1, 2, 3, 4]\n"
     ]
    }
   ],
   "source": [
    "num_list =[]\n",
    "\n",
    "for i in range(5):\n",
    "    num_list.append(i)\n",
    "\n",
    "    \n",
    "print(num_list)"
   ]
  },
  {
   "cell_type": "code",
   "execution_count": null,
   "id": "797c58bd-a7c1-4723-9de0-708a79dd9931",
   "metadata": {},
   "outputs": [],
   "source": []
  }
 ],
 "metadata": {
  "kernelspec": {
   "display_name": "Python 3 (ipykernel)",
   "language": "python",
   "name": "python3"
  },
  "language_info": {
   "codemirror_mode": {
    "name": "ipython",
    "version": 3
   },
   "file_extension": ".py",
   "mimetype": "text/x-python",
   "name": "python",
   "nbconvert_exporter": "python",
   "pygments_lexer": "ipython3",
   "version": "3.10.6"
  }
 },
 "nbformat": 4,
 "nbformat_minor": 5
}
